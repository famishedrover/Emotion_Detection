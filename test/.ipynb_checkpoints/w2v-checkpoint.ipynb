{
 "cells": [
  {
   "cell_type": "code",
   "execution_count": 1,
   "metadata": {
    "collapsed": false
   },
   "outputs": [
    {
     "name": "stderr",
     "output_type": "stream",
     "text": [
      "/usr/local/lib/python2.7/site-packages/matplotlib/font_manager.py:273: UserWarning: Matplotlib is building the font cache using fc-list. This may take a moment.\n",
      "  warnings.warn('Matplotlib is building the font cache using fc-list. This may take a moment.')\n",
      "Using TensorFlow backend.\n"
     ]
    }
   ],
   "source": [
    "import numpy as np\n",
    "from matplotlib import pyplot as plt\n",
    "import pickle as pk\n",
    "%matplotlib inline\n",
    "\n",
    "import keras\n",
    "from keras.layers import Dense, Activation, Input, Dropout\n",
    "from keras.models import Model"
   ]
  },
  {
   "cell_type": "code",
   "execution_count": 2,
   "metadata": {
    "collapsed": true
   },
   "outputs": [],
   "source": [
    "f = open('./data.txt')\n",
    "d = f.read()\n",
    "f.close()\n",
    "\n",
    "data = d[1260:]\n",
    "data = data.lower().decode('utf-8')\n",
    "import re\n",
    "\n",
    "p = re.sub('[^A-Za-z]+', ' ', data)\n",
    "ds = p.split()"
   ]
  },
  {
   "cell_type": "code",
   "execution_count": 3,
   "metadata": {
    "collapsed": false
   },
   "outputs": [
    {
     "name": "stdout",
     "output_type": "stream",
     "text": [
      "1781 1781 (35456, 1781)\n"
     ]
    }
   ],
   "source": [
    "bow = pk.load(open('./bow.pkl', 'rb'))\n",
    "rev_bow = pk.load(open('./rev_bow.pkl', 'rb'))\n",
    "vecs = np.load('./all_word_data.npy')\n",
    "\n",
    "print len(bow.keys()), len(rev_bow.keys()), vecs.shape"
   ]
  },
  {
   "cell_type": "code",
   "execution_count": 5,
   "metadata": {
    "collapsed": false
   },
   "outputs": [
    {
     "name": "stdout",
     "output_type": "stream",
     "text": [
      "it\n",
      "is\n",
      "often\n",
      "enough\n",
      "and\n",
      "always\n",
      "with\n",
      "great\n",
      "to\n",
      "me\n"
     ]
    }
   ],
   "source": [
    "# retrieving words from onehot vec\n",
    "for ix in range(10):\n",
    "    print bow[vecs[ix].argmax()]"
   ]
  },
  {
   "cell_type": "code",
   "execution_count": 8,
   "metadata": {
    "collapsed": true
   },
   "outputs": [],
   "source": [
    "np.hstack?"
   ]
  },
  {
   "cell_type": "code",
   "execution_count": 31,
   "metadata": {
    "collapsed": false
   },
   "outputs": [],
   "source": [
    "# f = np.zeros((3,2))\n",
    "# print f\n",
    "# o = np.ones((4,5))\n",
    "# o[2:][:]= 2\n",
    "# print o\n",
    "# t = np.zeros((o.shape[0]-1, o.shape[1]*2))\n",
    "# print t\n",
    "# for ix in range(t.shape[0]-1) :\n",
    "#     t[ix] = np.hstack((o[ix] , o[ix+1]))\n",
    "# print '-'*50\n",
    "# print t\n",
    "\n",
    "# so X is stored as \n",
    "# word1 word2\n",
    "# word2 word3\n",
    "# ...\n",
    "# ...\n"
   ]
  },
  {
   "cell_type": "code",
   "execution_count": 9,
   "metadata": {
    "collapsed": true
   },
   "outputs": [],
   "source": [
    "X = np.zeros((vecs.shape[0]-1, vecs.shape[1]*2))\n",
    "\n",
    "for ix in range(X.shape[0]-1):\n",
    "    X[ix] = np.hstack((vecs[ix], vecs[ix+1]))"
   ]
  },
  {
   "cell_type": "code",
   "execution_count": 10,
   "metadata": {
    "collapsed": true
   },
   "outputs": [],
   "source": [
    "y = vecs[1:]"
   ]
  },
  {
   "cell_type": "code",
   "execution_count": 17,
   "metadata": {
    "collapsed": false
   },
   "outputs": [
    {
     "name": "stdout",
     "output_type": "stream",
     "text": [
      "(35455, 3562) (35455, 1781)\n"
     ]
    }
   ],
   "source": [
    "print X.shape, y.shape"
   ]
  },
  {
   "cell_type": "code",
   "execution_count": 18,
   "metadata": {
    "collapsed": false
   },
   "outputs": [
    {
     "name": "stdout",
     "output_type": "stream",
     "text": [
      "(30136, 3562) (5319, 3562)\n",
      "(30136, 1781) (5319, 1781)\n"
     ]
    }
   ],
   "source": [
    "split = int(0.85 * X.shape[0])\n",
    "\n",
    "X_train = X[:split]\n",
    "X_val = X[split:]\n",
    "y_train = y[:split]\n",
    "y_val = y[split:]\n",
    "\n",
    "print X_train.shape, X_val.shape\n",
    "print y_train.shape, y_val.shape"
   ]
  },
  {
   "cell_type": "code",
   "execution_count": 32,
   "metadata": {
    "collapsed": false
   },
   "outputs": [
    {
     "name": "stdout",
     "output_type": "stream",
     "text": [
      "____________________________________________________________________________________________________\n",
      "Layer (type)                     Output Shape          Param #     Connected to                     \n",
      "====================================================================================================\n",
      "input_1 (InputLayer)             (None, 3562)          0                                            \n",
      "____________________________________________________________________________________________________\n",
      "dense_1 (Dense)                  (None, 50)            178150      input_1[0][0]                    \n",
      "____________________________________________________________________________________________________\n",
      "dropout_1 (Dropout)              (None, 50)            0           dense_1[0][0]                    \n",
      "____________________________________________________________________________________________________\n",
      "dense_2 (Dense)                  (None, 1781)          90831       dropout_1[0][0]                  \n",
      "====================================================================================================\n",
      "Total params: 268,981\n",
      "Trainable params: 268,981\n",
      "Non-trainable params: 0\n",
      "____________________________________________________________________________________________________\n"
     ]
    }
   ],
   "source": [
    "embedding = 50\n",
    "\n",
    "inp = Input(shape=(3562,))\n",
    "\n",
    "emb = Dense(embedding, activation='tanh')(inp)\n",
    "\n",
    "emb = Dropout(0.32)(emb)\n",
    "\n",
    "out = Dense(1781, activation='softmax')(emb)\n",
    "\n",
    "model = Model(input=inp, output=out)\n",
    "model.summary()\n",
    "model.compile(loss='categorical_crossentropy', optimizer='adam', metrics=['accuracy'])\n",
    "encoder = Model(input=inp, output=emb)"
   ]
  },
  {
   "cell_type": "code",
   "execution_count": 33,
   "metadata": {
    "collapsed": false
   },
   "outputs": [
    {
     "name": "stdout",
     "output_type": "stream",
     "text": [
      "Train on 30136 samples, validate on 5319 samples\n",
      "Epoch 1/30\n",
      "11s - loss: 5.9913 - acc: 0.1663 - val_loss: 5.4309 - val_acc: 0.2361\n",
      "Epoch 2/30\n",
      "10s - loss: 4.2277 - acc: 0.3537 - val_loss: 4.4341 - val_acc: 0.3971\n",
      "Epoch 3/30\n",
      "10s - loss: 3.2213 - acc: 0.5303 - val_loss: 3.7116 - val_acc: 0.5418\n",
      "Epoch 4/30\n",
      "11s - loss: 2.4940 - acc: 0.6628 - val_loss: 3.2602 - val_acc: 0.6136\n",
      "Epoch 5/30\n",
      "9s - loss: 2.0036 - acc: 0.7418 - val_loss: 2.9475 - val_acc: 0.6633\n",
      "Epoch 6/30\n",
      "9s - loss: 1.6498 - acc: 0.8003 - val_loss: 2.6939 - val_acc: 0.7028\n",
      "Epoch 7/30\n",
      "9s - loss: 1.3747 - acc: 0.8463 - val_loss: 2.5034 - val_acc: 0.7313\n",
      "Epoch 8/30\n",
      "9s - loss: 1.1515 - acc: 0.8787 - val_loss: 2.3646 - val_acc: 0.7473\n",
      "Epoch 9/30\n",
      "9s - loss: 0.9682 - acc: 0.9030 - val_loss: 2.2618 - val_acc: 0.7590\n",
      "Epoch 10/30\n",
      "9s - loss: 0.8161 - acc: 0.9194 - val_loss: 2.1824 - val_acc: 0.7682\n",
      "Epoch 11/30\n",
      "9s - loss: 0.6919 - acc: 0.9339 - val_loss: 2.1155 - val_acc: 0.7768\n",
      "Epoch 12/30\n",
      "9s - loss: 0.5834 - acc: 0.9458 - val_loss: 2.0547 - val_acc: 0.7832\n",
      "Epoch 13/30\n",
      "10s - loss: 0.4926 - acc: 0.9568 - val_loss: 2.0028 - val_acc: 0.7898\n",
      "Epoch 14/30\n",
      "11s - loss: 0.4133 - acc: 0.9671 - val_loss: 1.9525 - val_acc: 0.7977\n",
      "Epoch 15/30\n",
      "14s - loss: 0.3477 - acc: 0.9756 - val_loss: 1.9023 - val_acc: 0.8043\n",
      "Epoch 16/30\n",
      "10s - loss: 0.2898 - acc: 0.9825 - val_loss: 1.8546 - val_acc: 0.8107\n",
      "Epoch 17/30\n",
      "9s - loss: 0.2400 - acc: 0.9875 - val_loss: 1.8106 - val_acc: 0.8174\n",
      "Epoch 18/30\n",
      "9s - loss: 0.1989 - acc: 0.9910 - val_loss: 1.7654 - val_acc: 0.8240\n",
      "Epoch 19/30\n",
      "11s - loss: 0.1635 - acc: 0.9938 - val_loss: 1.7236 - val_acc: 0.8291\n",
      "Epoch 20/30\n",
      "12s - loss: 0.1348 - acc: 0.9951 - val_loss: 1.6862 - val_acc: 0.8329\n",
      "Epoch 21/30\n",
      "10s - loss: 0.1103 - acc: 0.9968 - val_loss: 1.6466 - val_acc: 0.8353\n",
      "Epoch 22/30\n",
      "11s - loss: 0.0920 - acc: 0.9972 - val_loss: 1.6147 - val_acc: 0.8379\n",
      "Epoch 23/30\n",
      "10s - loss: 0.0737 - acc: 0.9979 - val_loss: 1.5798 - val_acc: 0.8389\n",
      "Epoch 24/30\n",
      "10s - loss: 0.0626 - acc: 0.9986 - val_loss: 1.5485 - val_acc: 0.8419\n",
      "Epoch 25/30\n",
      "11s - loss: 0.0509 - acc: 0.9987 - val_loss: 1.5206 - val_acc: 0.8456\n",
      "Epoch 26/30\n",
      "10s - loss: 0.0443 - acc: 0.9989 - val_loss: 1.4941 - val_acc: 0.8479\n",
      "Epoch 27/30\n",
      "11s - loss: 0.0369 - acc: 0.9993 - val_loss: 1.4717 - val_acc: 0.8526\n",
      "Epoch 28/30\n",
      "9s - loss: 0.0314 - acc: 0.9994 - val_loss: 1.4504 - val_acc: 0.8535\n",
      "Epoch 29/30\n",
      "9s - loss: 0.0265 - acc: 0.9995 - val_loss: 1.4319 - val_acc: 0.8579\n",
      "Epoch 30/30\n",
      "10s - loss: 0.0229 - acc: 0.9996 - val_loss: 1.4132 - val_acc: 0.8609\n"
     ]
    }
   ],
   "source": [
    "hist = model.fit(X_train, y_train,\n",
    "                nb_epoch=30,\n",
    "                shuffle=True,\n",
    "                batch_size=100,\n",
    "                validation_data=(X_val, y_val), verbose=2)"
   ]
  },
  {
   "cell_type": "code",
   "execution_count": 34,
   "metadata": {
    "collapsed": false
   },
   "outputs": [
    {
     "data": {
      "text/plain": [
       "[<matplotlib.lines.Line2D at 0x1344e7f10>]"
      ]
     },
     "execution_count": 34,
     "metadata": {},
     "output_type": "execute_result"
    },
    {
     "data": {
      "image/png": "[encoded data removed]",
      "text/plain": [
       "<matplotlib.figure.Figure at 0x13397dfd0>"
      ]
     },
     "metadata": {},
     "output_type": "display_data"
    },
    {
     "data": {
      "image/png": "[encoded data removed]",
      "text/plain": [
       "<matplotlib.figure.Figure at 0x1340c2b90>"
      ]
     },
     "metadata": {},
     "output_type": "display_data"
    }
   ],
   "source": [
    "th = hist.history\n",
    "\n",
    "plt.figure(0)\n",
    "plt.plot(th['loss'], 'b')\n",
    "plt.plot(th['val_loss'], 'g')\n",
    "\n",
    "plt.figure(1)\n",
    "plt.plot(th['acc'], 'b')\n",
    "plt.plot(th['val_acc'], 'g')"
   ]
  },
  {
   "cell_type": "code",
   "execution_count": 35,
   "metadata": {
    "collapsed": true
   },
   "outputs": [],
   "source": [
    "def save_model(model , model_name = 'model') :\n",
    "    import os\n",
    "    if 'output' not in os.listdir('./') :\n",
    "        os.mkdir('output')\n",
    "        print ('Created output dir...')\n",
    "    else:\n",
    "        print ('output dir exists ... continuing ..')\n",
    "    model_json = model.to_json()\n",
    "    path = './output/%s_save.json'%model_name\n",
    "    with open( path, 'w') as json_file :\n",
    "        json_file.write(model_json)\n",
    "    model.save_weights('./output/%s_save.h5'%model_name)\n",
    "    print ('saved! as %s and %s'%(model_name + '_save.json',model_name + '_save.h5'))\n",
    "\n",
    "def get_model(jfilepath , h5filepath) :\n",
    "    from keras.models import model_from_json\n",
    "    with open(jfilepath) as json_file :\n",
    "        loaded_model_json = json_file.read()\n",
    "    loaded_model = model_from_json(loaded_model_json)\n",
    "    loaded_model.load_weights(h5filepath)\n",
    "    return loaded_model"
   ]
  },
  {
   "cell_type": "code",
   "execution_count": 36,
   "metadata": {
    "collapsed": false
   },
   "outputs": [
    {
     "name": "stdout",
     "output_type": "stream",
     "text": [
      "Created output dir...\n",
      "saved! as model_save.json and model_save.h5\n"
     ]
    }
   ],
   "source": [
    "save_model(model)"
   ]
  },
  {
   "cell_type": "code",
   "execution_count": null,
   "metadata": {
    "collapsed": true
   },
   "outputs": [],
   "source": []
  }
 ],
 "metadata": {
  "kernelspec": {
   "display_name": "Python 2",
   "language": "python",
   "name": "python2"
  },
  "language_info": {
   "codemirror_mode": {
    "name": "ipython",
    "version": 2
   },
   "file_extension": ".py",
   "mimetype": "text/x-python",
   "name": "python",
   "nbconvert_exporter": "python",
   "pygments_lexer": "ipython2",
   "version": "2.7.13"
  }
 },
 "nbformat": 4,
 "nbformat_minor": 2
}
